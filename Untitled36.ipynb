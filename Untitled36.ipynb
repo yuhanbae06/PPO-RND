{
  "nbformat": 4,
  "nbformat_minor": 0,
  "metadata": {
    "colab": {
      "private_outputs": true,
      "provenance": [],
      "machine_shape": "hm",
      "gpuType": "A100",
      "authorship_tag": "ABX9TyOAPdDZ21PBnnYL52mpLpQ5",
      "include_colab_link": true
    },
    "kernelspec": {
      "name": "python3",
      "display_name": "Python 3"
    },
    "language_info": {
      "name": "python"
    },
    "accelerator": "GPU"
  },
  "cells": [
    {
      "cell_type": "markdown",
      "metadata": {
        "id": "view-in-github",
        "colab_type": "text"
      },
      "source": [
        "<a href=\"https://colab.research.google.com/github/yuhanbae06/PPO-RND/blob/main/Untitled36.ipynb\" target=\"_parent\"><img src=\"https://colab.research.google.com/assets/colab-badge.svg\" alt=\"Open In Colab\"/></a>"
      ]
    },
    {
      "cell_type": "code",
      "execution_count": null,
      "metadata": {
        "id": "fI5igt6YJlwm"
      },
      "outputs": [],
      "source": [
        "# 패키지 관리자 업그레이드\n",
        "!pip install --upgrade pip\n",
        "\n",
        "# OpenAI Gym(Atari) + Mario 환경\n",
        "!pip install gym[atari] gym-super-mario-bros nes-py\n",
        "\n",
        "# 이미지 처리, 로깅 등\n",
        "!pip install opencv-python pillow tensorboardX\n",
        "\n",
        "# GPU 가속 PyTorch (Colab은 CUDA11.8 환경)\n",
        "!pip install torch torchvision torchaudio --extra-index-url https://download.pytorch.org/whl/cu118\n"
      ]
    },
    {
      "cell_type": "code",
      "source": [
        "!git clone https://github.com/jcwleo/random-network-distillation-pytorch.git"
      ],
      "metadata": {
        "id": "sjtgBYfDJnm6"
      },
      "execution_count": null,
      "outputs": []
    },
    {
      "cell_type": "code",
      "source": [
        "%cd random-network-distillation-pytorch"
      ],
      "metadata": {
        "id": "_iXZ5G7nKgJ8"
      },
      "execution_count": null,
      "outputs": []
    },
    {
      "cell_type": "code",
      "source": [
        "# 1) utils.py 패치 셀을 추가\n",
        "%%bash\n",
        "sed -i \"s|from torch._six import inf|import math\\ninf = math.inf|\" utils.py"
      ],
      "metadata": {
        "id": "KOzdj3UOLIsc"
      },
      "execution_count": null,
      "outputs": []
    },
    {
      "cell_type": "code",
      "source": [
        "%%bash\n",
        "sed -i \"s|from nes_py.wrappers import BinarySpaceToDiscreteSpaceEnv|from nes_py.wrappers import JoypadSpace as BinarySpaceToDiscreteSpaceEnv|\" envs.py"
      ],
      "metadata": {
        "id": "p0v8f7zSLf-T"
      },
      "execution_count": null,
      "outputs": []
    },
    {
      "cell_type": "code",
      "source": [
        "# 1) 런타임 초기화 후, 먼저 pip 업그레이드\n",
        "!pip install --upgrade pip\n",
        "\n",
        "# 2) Gym(Atari+ROM), Mario 환경, 기타 라이브러리, PyTorch 설치\n",
        "!pip install \"gym[atari,accept-rom-license]\" gym-super-mario-bros nes-py \\\n",
        "               opencv-python pillow tensorboardX \\\n",
        "               torch torchvision torchaudio --extra-index-url https://download.pytorch.org/whl/cu118"
      ],
      "metadata": {
        "id": "JHUJn_ZNLqhy"
      },
      "execution_count": null,
      "outputs": []
    },
    {
      "cell_type": "code",
      "source": [
        "%%bash\n",
        "# 1) AtariEnvironment.reset() 패치\n",
        "sed -i \"/s = self.env.reset()/c\\        # Handle new Gym API: reset may return (obs, info)\\n        reset_ret = self.env.reset()\\n        if isinstance(reset_ret, tuple):\\n            s = reset_ret[0]\\n        else:\\n            s = reset_ret\" envs.py\n",
        "\n",
        "# 2) MarioEnvironment.reset() 패치\n",
        "sed -i \"/self.get_init_state(self.env.reset())/c\\        # Handle new Gym API: reset may return (obs, info)\\n        reset_ret = self.env.reset()\\n        if isinstance(reset_ret, tuple):\\n            init_obs = reset_ret[0]\\n        else:\\n            init_obs = reset_ret\\n        self.get_init_state(init_obs)\" envs.py\n",
        "\n",
        "# 확인 차원에서 변경된 부분 10줄 출력\n",
        "echo \"---- patched envs.py snippet ----\"\n",
        "sed -n '140,160p' envs.py\n"
      ],
      "metadata": {
        "id": "3yn3-53bMbqN"
      },
      "execution_count": null,
      "outputs": []
    },
    {
      "cell_type": "code",
      "source": [
        "%%bash\n",
        "# Gym compatibility patch: define numpy.bool8 if missing\n",
        "sed -i \"/import numpy as np/a \\\\\n",
        "# Monkey‑patch for numpy.bool8 compatibility with Gym passive_env_checker\\\\\n",
        "if not hasattr(np, 'bool8'):\\\\\n",
        "    np.bool8 = np.bool_\\\\\" envs.py\n",
        "\n",
        "# 변경된 envs.py 앞부분 확인\n",
        "echo \"---- envs.py top after patch ----\"\n",
        "head -n 20 envs.py\n"
      ],
      "metadata": {
        "id": "zhh08FGLNDSG"
      },
      "execution_count": null,
      "outputs": []
    },
    {
      "cell_type": "code",
      "source": [
        "%%bash\n",
        "# 1) envs.py 파일 위치 찾기\n",
        "file=$(find . -type f -name envs.py | head -n1)\n",
        "if [ -z \"$file\" ]; then\n",
        "  echo \"envs.py를 찾을 수 없습니다.\"\n",
        "  exit 1\n",
        "fi\n",
        "\n",
        "# 2) obs, reward, done, info 언패킹 패치 (백업: .bak)\n",
        "perl -i.bak -0777 -pe '\n",
        "  s{(?m)^( *)(obs, reward, done, info = self\\.env\\.step\\(action\\))}{\n",
        "${1}result = self.env.step(action)\n",
        "${1}if len(result) == 5:\n",
        "${1}    obs, reward, terminated, truncated, info = result\n",
        "${1}    done = terminated or truncated\n",
        "${1}else:\n",
        "${1}    obs, reward, done, info = result\n",
        "}g' \"$file\"\n",
        "\n",
        "# 3) s, reward, done, info 언패킹 패치 (원본 덮어쓰기)\n",
        "perl -i -0777 -pe '\n",
        "  s{(?m)^( *)(s, reward, done, info = self\\.env\\.step\\(action\\))}{\n",
        "${1}result = self.env.step(action)\n",
        "${1}if len(result) == 5:\n",
        "${1}    s, reward, terminated, truncated, info = result\n",
        "${1}    done = terminated or truncated\n",
        "${1}else:\n",
        "${1}    s, reward, done, info = result\n",
        "}g' \"$file\"\n",
        "\n",
        "echo \"Patched '$file' (원본은 '$file.bak'에 백업됨)\"\n"
      ],
      "metadata": {
        "id": "gO-sdnJ3No3n"
      },
      "execution_count": null,
      "outputs": []
    },
    {
      "cell_type": "code",
      "source": [
        "# 2) 정상 실행 셀\n",
        "!python train.py"
      ],
      "metadata": {
        "id": "Bbjg8vGPLKi8"
      },
      "execution_count": null,
      "outputs": []
    },
    {
      "cell_type": "code",
      "source": [
        "%load_ext tensorboard\n",
        "%tensorboard --logdir=runs"
      ],
      "metadata": {
        "id": "imy4wfRqMFDy"
      },
      "execution_count": null,
      "outputs": []
    },
    {
      "cell_type": "code",
      "source": [
        "!python eval.py"
      ],
      "metadata": {
        "id": "cTGXGSnztKJX"
      },
      "execution_count": null,
      "outputs": []
    },
    {
      "cell_type": "code",
      "source": [],
      "metadata": {
        "id": "SmNcB8Yjtwx8"
      },
      "execution_count": null,
      "outputs": []
    }
  ]
}